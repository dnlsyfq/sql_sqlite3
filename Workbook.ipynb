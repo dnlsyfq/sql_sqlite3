{
 "nbformat": 4,
 "nbformat_minor": 2,
 "metadata": {
  "language_info": {
   "name": "python",
   "codemirror_mode": {
    "name": "ipython",
    "version": 3
   },
   "version": "3.6.4-final"
  },
  "orig_nbformat": 2,
  "file_extension": ".py",
  "mimetype": "text/x-python",
  "name": "python",
  "npconvert_exporter": "python",
  "pygments_lexer": "ipython3",
  "version": 3,
  "kernelspec": {
   "name": "1d4e2c9e-28ad-43eb-ad59-0dfcefc68a99",
   "display_name": "'Python Interactive'"
  }
 },
 "cells": [
  {
   "cell_type": "code",
   "execution_count": 2,
   "metadata": {},
   "outputs": [],
   "source": [
    "import sqlite3\n",
    "conn = sqlite3.connect(\"factbook.db\")"
   ]
  },
  {
   "cell_type": "code",
   "execution_count": 3,
   "metadata": {},
   "outputs": [],
   "source": [
    "# conn.execute(\"\") \n",
    "cursor = conn.cursor()"
   ]
  },
  {
   "cell_type": "code",
   "execution_count": 12,
   "metadata": {},
   "outputs": [],
   "source": [
    "schema = cursor.execute(\"PRAGMA table_info(facts);\").fetchall()"
   ]
  },
  {
   "cell_type": "code",
   "execution_count": 13,
   "metadata": {},
   "outputs": [
    {
     "output_type": "stream",
     "name": "stdout",
     "text": "(0, 'id', 'INTEGER', 1, None, 1)\n(1, 'code', 'varchar(255)', 1, None, 0)\n(2, 'name', 'varchar(255)', 1, None, 0)\n(3, 'area', 'integer', 0, None, 0)\n(4, 'area_land', 'integer', 0, None, 0)\n(5, 'area_water', 'integer', 0, None, 0)\n(6, 'population', 'integer', 0, None, 0)\n(7, 'population_growth', 'float', 0, None, 0)\n(8, 'birth_rate', 'float', 0, None, 0)\n(9, 'death_rate', 'float', 0, None, 0)\n(10, 'migration_rate', 'float', 0, None, 0)\n(11, 'created_at', 'datetime', 0, None, 0)\n(12, 'updated_at', 'datetime', 0, None, 0)\n"
    }
   ],
   "source": [
    "for i in schema:\n",
    "    print(i)"
   ]
  },
  {
   "cell_type": "code",
   "execution_count": 14,
   "metadata": {},
   "outputs": [
    {
     "output_type": "execute_result",
     "data": {
      "text/plain": "[(0, 0, 0, 'SCAN TABLE facts')]"
     },
     "metadata": {},
     "execution_count": 14
    }
   ],
   "source": [
    "cursor.execute(\"EXPLAIN QUERY PLAN SELECT \\\n",
    "* FROM facts WHERE area > 4000;\").fetchall()"
   ]
  },
  {
   "cell_type": "code",
   "execution_count": 16,
   "metadata": {},
   "outputs": [
    {
     "output_type": "execute_result",
     "data": {
      "text/plain": "[(0, 0, 0, 'SCAN TABLE facts')]"
     },
     "metadata": {},
     "execution_count": 16
    }
   ],
   "source": [
    "cursor.execute(\"EXPLAIN QUERY PLAN SELECT \\\n",
    "area FROM facts WHERE area > 4000;\").fetchall()"
   ]
  },
  {
   "cell_type": "code",
   "execution_count": 19,
   "metadata": {},
   "outputs": [
    {
     "output_type": "execute_result",
     "data": {
      "text/plain": "[(0, 0, 0, 'SCAN TABLE facts')]"
     },
     "metadata": {},
     "execution_count": 19
    }
   ],
   "source": [
    "cursor.execute(\"EXPLAIN QUERY PLAN SELECT \\\n",
    "* FROM facts WHERE name = 'Czech Republic';\").fetchall()"
   ]
  },
  {
   "cell_type": "code",
   "execution_count": 20,
   "metadata": {},
   "outputs": [
    {
     "output_type": "execute_result",
     "data": {
      "text/plain": "[(0, 0, 0, 'SCAN TABLE facts')]"
     },
     "metadata": {},
     "execution_count": 20
    }
   ],
   "source": [
    "conn.execute(\"EXPLAIN QUERY PLAN SELECT \\\n",
    "* FROM facts WHERE name = 'Czech Republic';\").fetchall()"
   ]
  },
  {
   "cell_type": "code",
   "execution_count": 21,
   "metadata": {},
   "outputs": [
    {
     "output_type": "execute_result",
     "data": {
      "text/plain": "[(0, 0, 0, 'SEARCH TABLE facts USING INTEGER PRIMARY KEY (rowid=?)')]"
     },
     "metadata": {},
     "execution_count": 21
    }
   ],
   "source": [
    "conn.execute(\"EXPLAIN QUERY PLAN SELECT * \\\n",
    "FROM facts WHERE id = 20;\").fetchall()"
   ]
  },
  {
   "cell_type": "code",
   "execution_count": null,
   "metadata": {},
   "outputs": [],
   "source": []
  }
 ]
}